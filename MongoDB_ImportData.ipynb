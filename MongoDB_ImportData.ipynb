{
 "cells": [
  {
   "cell_type": "markdown",
   "id": "eefb9949",
   "metadata": {},
   "source": [
    "## NOTE"
   ]
  },
  {
   "cell_type": "markdown",
   "id": "f10a6af7",
   "metadata": {},
   "source": [
    "1. 몽고디비에서 'plbc.ContainerIoResult', 'plbc.ContainerInOut' 두 컬렉션의 전체 데이터 가져오기\n",
    "2. plbcContainerIoResult는 'copionSeq'기준, plbcContainerInOut는 '_id' 기준으로 join 진행\n",
    "3. join 결과 csv파일로 저장"
   ]
  },
  {
   "cell_type": "markdown",
   "id": "9d537a7b",
   "metadata": {},
   "source": [
    "    >>> 각 단계별로 시간 얼마나 걸리는지 체크할 것."
   ]
  },
  {
   "cell_type": "code",
   "execution_count": 1,
   "id": "8051d012",
   "metadata": {},
   "outputs": [],
   "source": [
    "from pymongo import MongoClient\n",
    "import pandas as pd\n",
    "import numpy as np\n",
    "import time\n",
    "import csv\n",
    "from sklearn.feature_extraction.text import CountVectorizer\n",
    "from sklearn.metrics.pairwise import cosine_similarity\n",
    "from concurrent.futures import ThreadPoolExecutor\n",
    "import json"
   ]
  },
  {
   "cell_type": "code",
   "execution_count": 2,
   "id": "69166551",
   "metadata": {},
   "outputs": [],
   "source": [
    "mongodb_URI = \" 보안상 삭제 \"\n",
    "client = MongoClient(mongodb_URI)\n",
    "db = client.plbc"
   ]
  },
  {
   "cell_type": "code",
   "execution_count": 3,
   "id": "da2deff0",
   "metadata": {},
   "outputs": [],
   "source": [
    "# 데이터 로딩에 필요한 함수 정의\n",
    "\n",
    "def get_all_data_in_chunks(collection):\n",
    "    cursor = collection.find().allow_disk_use(True)  # Remove the limit parameter\n",
    "    while True:\n",
    "        chunk = list(cursor)\n",
    "        if not chunk:\n",
    "            break\n",
    "        yield chunk\n",
    "\n",
    "def process_chunk(chunk):\n",
    "    return [{fieldname: entry.get(fieldname, '') for fieldname in fieldnames} for entry in chunk]"
   ]
  },
  {
   "cell_type": "markdown",
   "id": "a4169fab",
   "metadata": {},
   "source": [
    "---"
   ]
  },
  {
   "cell_type": "markdown",
   "id": "183157bb",
   "metadata": {},
   "source": [
    "# 1. 'plbc.ContainerIoResult', 'plbc.ContainerInOut' 전체 데이터 가져오기"
   ]
  },
  {
   "cell_type": "markdown",
   "id": "ea6ed087",
   "metadata": {},
   "source": [
    "## 1-1. plbcContainerIoResult"
   ]
  },
  {
   "cell_type": "code",
   "execution_count": 5,
   "id": "d392bb29",
   "metadata": {},
   "outputs": [
    {
     "name": "stdout",
     "output_type": "stream",
     "text": [
      "plbcContainerIoResult 데이터 로딩하는 데에 걸린 시간: 572.4970271587372 초\n"
     ]
    }
   ],
   "source": [
    "collection = db.plbcContainerIoResult\n",
    "\n",
    "sample_document = collection.find_one()\n",
    "fieldnames = set(sample_document.keys()) if sample_document else set()\n",
    "\n",
    "start_time = time.time()\n",
    "chunks = get_all_data_in_chunks(collection)\n",
    "data = []\n",
    "with ThreadPoolExecutor() as executor:\n",
    "    futures = [executor.submit(process_chunk, chunk) for chunk in chunks]\n",
    "    for future in futures:\n",
    "        data.extend(future.result())\n",
    "loading_time = time.time() - start_time\n",
    "print(\"plbcContainerIoResult 데이터 로딩하는 데에 걸린 시간:\", loading_time, \"초\")"
   ]
  },
  {
   "cell_type": "code",
   "execution_count": 11,
   "id": "cc57a80e",
   "metadata": {
    "scrolled": true
   },
   "outputs": [
    {
     "name": "stdout",
     "output_type": "stream",
     "text": [
      "데이터프레임으로 변환하는 데에 걸린 시간: 180.06948590278625 초\n"
     ]
    }
   ],
   "source": [
    "# 데이터프레임 변환 시간\n",
    "start_time = time.time()\n",
    "plbcContainerIoResult = pd.DataFrame(data)\n",
    "end_time = time.time()\n",
    "changing_time = end_time - start_time\n",
    "print(\"데이터프레임으로 변환하는 데에 걸린 시간:\", changing_time, \"초\")"
   ]
  },
  {
   "cell_type": "code",
   "execution_count": 15,
   "id": "80a90976",
   "metadata": {
    "scrolled": true
   },
   "outputs": [
    {
     "data": {
      "text/plain": [
       "752.5665130615234"
      ]
     },
     "execution_count": 15,
     "metadata": {},
     "output_type": "execute_result"
    }
   ],
   "source": [
    "## 데이터 로딩 + 데이터프레임 변환 시간 합계\n",
    "loading_time + changing_time"
   ]
  },
  {
   "cell_type": "markdown",
   "id": "bdb48c93",
   "metadata": {},
   "source": [
    "#### - 동일 데이터/동일 코드 재실행"
   ]
  },
  {
   "cell_type": "code",
   "execution_count": 10,
   "id": "cae34bf8",
   "metadata": {},
   "outputs": [
    {
     "name": "stdout",
     "output_type": "stream",
     "text": [
      "plbcContainerIoResult 데이터 로딩하는 데에 걸린 시간: 754.7109789848328 초\n"
     ]
    }
   ],
   "source": [
    "collection = db.plbcContainerIoResult\n",
    "\n",
    "sample_document = collection.find_one()\n",
    "fieldnames = set(sample_document.keys()) if sample_document else set()\n",
    "\n",
    "start_time = time.time()\n",
    "chunks = get_all_data_in_chunks(collection)\n",
    "data_result = []\n",
    "with ThreadPoolExecutor() as executor:\n",
    "    futures = [executor.submit(process_chunk, chunk) for chunk in chunks]\n",
    "    for future in futures:\n",
    "        data_result.extend(future.result())\n",
    "loading_time = time.time() - start_time\n",
    "print(\"plbcContainerIoResult 데이터 로딩하는 데에 걸린 시간:\", loading_time, \"초\")"
   ]
  },
  {
   "cell_type": "code",
   "execution_count": 11,
   "id": "a4ad9a5a",
   "metadata": {
    "scrolled": true
   },
   "outputs": [
    {
     "name": "stdout",
     "output_type": "stream",
     "text": [
      "데이터프레임으로 변환하는 데에 걸린 시간: 276.53333473205566 초\n"
     ]
    }
   ],
   "source": [
    "# 데이터프레임 변환 시간\n",
    "start_time = time.time()\n",
    "plbcContainerIoResult = pd.DataFrame(data_result)\n",
    "end_time = time.time()\n",
    "changing_time = end_time - start_time\n",
    "print(\"데이터프레임으로 변환하는 데에 걸린 시간:\", changing_time, \"초\")"
   ]
  },
  {
   "cell_type": "code",
   "execution_count": 19,
   "id": "08d6dbd1",
   "metadata": {},
   "outputs": [
    {
     "data": {
      "text/plain": [
       "1031.2443137168884"
      ]
     },
     "execution_count": 19,
     "metadata": {},
     "output_type": "execute_result"
    }
   ],
   "source": [
    "# 데이터 로딩 + 데이터프레임 변환 시간 합계\n",
    "\n",
    "loading_time + changing_time"
   ]
  },
  {
   "cell_type": "markdown",
   "id": "2a8e91ae",
   "metadata": {},
   "source": [
    "> ### 1차 결론) 동일 데이터/동일코드를 재실행한 결과, 시간이 증가함 (752.6초 >> 1031.2초)"
   ]
  },
  {
   "cell_type": "markdown",
   "id": "c3fceb90",
   "metadata": {},
   "source": [
    "---"
   ]
  },
  {
   "cell_type": "markdown",
   "id": "e1d4da58",
   "metadata": {},
   "source": [
    "#### - 데이터 로딩 후 한 번에 데이터프레임으로 변환 >> 데이터 로딩과 동시에 데이터프레임 변환 (시간비교)"
   ]
  },
  {
   "cell_type": "code",
   "execution_count": 14,
   "id": "c8c201ce",
   "metadata": {},
   "outputs": [
    {
     "name": "stdout",
     "output_type": "stream",
     "text": [
      "plbcContainerIoResult 데이터 로딩 및 변환하는 데에 걸린 시간: 1082.040986776352 초\n"
     ]
    }
   ],
   "source": [
    "collection = db.plbcContainerIoResult\n",
    "\n",
    "sample_document = collection.find_one()\n",
    "fieldnames = set(sample_document.keys()) if sample_document else set()\n",
    "\n",
    "start_time = time.time()\n",
    "chunks = get_all_data_in_chunks(collection)\n",
    "data = []\n",
    "with ThreadPoolExecutor() as executor:\n",
    "    futures = [executor.submit(process_chunk, chunk) for chunk in chunks]\n",
    "    for future in futures:\n",
    "        data.extend(future.result())\n",
    "\n",
    "# 데이터프레임으로 변환\n",
    "plbcContainerIoResult = pd.DataFrame(data)\n",
    "\n",
    "loading_time = time.time() - start_time\n",
    "print(\"plbcContainerIoResult 데이터 로딩 및 변환하는 데에 걸린 시간:\", loading_time, \"초\")"
   ]
  },
  {
   "cell_type": "markdown",
   "id": "36b0a730",
   "metadata": {},
   "source": [
    "> ### 2차 결론) 데이터를 불러오면서 데이터프레임으로 변환하는 것보다, 로딩이 끝난 뒤 한 번에 변환하는 것이 더 효율적"
   ]
  },
  {
   "cell_type": "markdown",
   "id": "19de66ff",
   "metadata": {},
   "source": [
    "## 1-2. plbcContainerInOut"
   ]
  },
  {
   "cell_type": "code",
   "execution_count": 5,
   "id": "29d45065",
   "metadata": {
    "scrolled": true
   },
   "outputs": [
    {
     "name": "stdout",
     "output_type": "stream",
     "text": [
      "plbcContainerInOut 데이터 로딩하는 데에 걸린 시간: 1786.8746728897095 초\n"
     ]
    }
   ],
   "source": [
    "collection = db.plbcContainerInOut\n",
    "\n",
    "sample_document = collection.find_one()\n",
    "fieldnames = set(sample_document.keys()) if sample_document else set()\n",
    "\n",
    "start_time = time.time()\n",
    "chunks = get_all_data_in_chunks(collection)\n",
    "data_inout = []\n",
    "with ThreadPoolExecutor() as executor:\n",
    "    futures = [executor.submit(process_chunk, chunk) for chunk in chunks]\n",
    "    for future in futures:\n",
    "        data_inout.extend(future.result())\n",
    "loading_time = time.time() - start_time\n",
    "print(\"plbcContainerInOut 데이터 로딩하는 데에 걸린 시간:\", loading_time, \"초\")"
   ]
  },
  {
   "cell_type": "code",
   "execution_count": 7,
   "id": "1e5f33f9",
   "metadata": {
    "scrolled": true
   },
   "outputs": [
    {
     "name": "stdout",
     "output_type": "stream",
     "text": [
      "데이터프레임으로 변환하는 데에 걸린 시간: 2508.16152882576 초\n"
     ]
    }
   ],
   "source": [
    "# 데이터프레임 변환 시간\n",
    "start_time = time.time()\n",
    "plbcContainerInOut = pd.DataFrame(data_inout)\n",
    "end_time = time.time()\n",
    "changing_time = end_time - start_time\n",
    "print(\"데이터프레임으로 변환하는 데에 걸린 시간:\", changing_time, \"초\")"
   ]
  },
  {
   "cell_type": "code",
   "execution_count": 8,
   "id": "82c8558f",
   "metadata": {},
   "outputs": [
    {
     "data": {
      "text/plain": [
       "4295.036201715469"
      ]
     },
     "execution_count": 8,
     "metadata": {},
     "output_type": "execute_result"
    }
   ],
   "source": [
    "## 데이터 로딩 + 데이터프레임 변환 시간 합계\n",
    "loading_time + changing_time"
   ]
  },
  {
   "cell_type": "markdown",
   "id": "569252fd",
   "metadata": {},
   "source": [
    "---"
   ]
  },
  {
   "cell_type": "markdown",
   "id": "fa0a2a50",
   "metadata": {},
   "source": [
    "# 2. 데이터 JOIN"
   ]
  },
  {
   "cell_type": "markdown",
   "id": "4c4641ef",
   "metadata": {},
   "source": [
    "#### plbcContainerIoResult는 'copionSeq'기준, plbcContainerInOut는 '_id' 기준으로 join 진행"
   ]
  },
  {
   "cell_type": "code",
   "execution_count": 12,
   "id": "643d648c",
   "metadata": {
    "scrolled": true
   },
   "outputs": [
    {
     "name": "stdout",
     "output_type": "stream",
     "text": [
      "<class 'pandas.core.frame.DataFrame'>\n",
      "RangeIndex: 10835137 entries, 0 to 10835136\n",
      "Data columns (total 13 columns):\n",
      " #   Column           Dtype \n",
      "---  ------           ----- \n",
      " 0   ctiorReusltSts   object\n",
      " 1   chgId            object\n",
      " 2   ctiorReusltSts4  object\n",
      " 3   copionSeq        object\n",
      " 4   rgstId           object\n",
      " 5   rgstDem          object\n",
      " 6   ctiorReusltSts2  object\n",
      " 7   remark           object\n",
      " 8   _id              object\n",
      " 9   ctiorReusltSts3  object\n",
      " 10  ctiorResultDhms  object\n",
      " 11  chgDtm           object\n",
      " 12  ctiorReusltSts5  object\n",
      "dtypes: object(13)\n",
      "memory usage: 1.0+ GB\n"
     ]
    }
   ],
   "source": [
    "plbcContainerIoResult.info()"
   ]
  },
  {
   "cell_type": "code",
   "execution_count": 13,
   "id": "7524527d",
   "metadata": {
    "scrolled": true
   },
   "outputs": [
    {
     "name": "stdout",
     "output_type": "stream",
     "text": [
      "<class 'pandas.core.frame.DataFrame'>\n",
      "RangeIndex: 13626405 entries, 0 to 13626404\n",
      "Data columns (total 24 columns):\n",
      " #   Column             Dtype         \n",
      "---  ------             -----         \n",
      " 0   ctioIoFlag         object        \n",
      " 1   ctioFaultDesc      object        \n",
      " 2   ctioCntrNo2FmFlag  object        \n",
      " 3   ctioCarrierRefNm   object        \n",
      " 4   ctioResponseFlag   object        \n",
      " 5   remark             object        \n",
      " 6   ctioReserved2      object        \n",
      " 7   ctioCntrNo1FmFlag  object        \n",
      " 8   ctioReserved1      object        \n",
      " 9   rgstDem            datetime64[ns]\n",
      " 10  ctioReserved3      object        \n",
      " 11  rgstId             object        \n",
      " 12  _id                object        \n",
      " 13  ctioVehicleRefNo   object        \n",
      " 14  chgId              object        \n",
      " 15  ctioBkgDhms        object        \n",
      " 16  carrierId          object        \n",
      " 17  ctioCntr1p1Iso     object        \n",
      " 18  tmnlId             object        \n",
      " 19  ctioCntr1p2Iso     object        \n",
      " 20  ctioCntrNo1        object        \n",
      " 21  ctioCntrNo2        object        \n",
      " 22  vechicleId         object        \n",
      " 23  ctioTmnlRefnm      object        \n",
      "dtypes: datetime64[ns](1), object(23)\n",
      "memory usage: 2.4+ GB\n"
     ]
    }
   ],
   "source": [
    "plbcContainerInOut.info()"
   ]
  },
  {
   "cell_type": "markdown",
   "id": "fba8d214",
   "metadata": {},
   "source": [
    "#### [데이터정보]\n",
    "\n",
    "1. plbc.ContainerIoResult\n",
    "      - 전체 데이터 10,835,137개\n",
    "      - 칼럼 13개\n",
    "---\n",
    "2. plbc.ContainerInOut\n",
    "      - 전체 데이터 13,626,405개\n",
    "      - 칼럼 24개"
   ]
  },
  {
   "cell_type": "code",
   "execution_count": 14,
   "id": "5b91ce6f",
   "metadata": {},
   "outputs": [
    {
     "name": "stdout",
     "output_type": "stream",
     "text": [
      "데이터 join시간: 1143.5207648277283 초\n"
     ]
    }
   ],
   "source": [
    "## 데이터 join\n",
    "\n",
    "start_time = time.time()\n",
    "merged_df = pd.merge(plbcContainerIoResult, plbcContainerInOut, left_on='copionSeq', right_on='_id')\n",
    "end_time = time.time()\n",
    "\n",
    "joining_time = end_time - start_time\n",
    "print(\"데이터 join시간:\", joining_time, \"초\")"
   ]
  },
  {
   "cell_type": "code",
   "execution_count": 16,
   "id": "07e456f2",
   "metadata": {
    "scrolled": true
   },
   "outputs": [
    {
     "name": "stdout",
     "output_type": "stream",
     "text": [
      "<class 'pandas.core.frame.DataFrame'>\n",
      "RangeIndex: 10598363 entries, 0 to 10598362\n",
      "Data columns (total 37 columns):\n",
      " #   Column             Dtype         \n",
      "---  ------             -----         \n",
      " 0   ctiorReusltSts     object        \n",
      " 1   chgId_x            object        \n",
      " 2   ctiorReusltSts4    object        \n",
      " 3   copionSeq          object        \n",
      " 4   rgstId_x           object        \n",
      " 5   rgstDem_x          object        \n",
      " 6   ctiorReusltSts2    object        \n",
      " 7   remark_x           object        \n",
      " 8   _id_x              object        \n",
      " 9   ctiorReusltSts3    object        \n",
      " 10  ctiorResultDhms    object        \n",
      " 11  chgDtm             object        \n",
      " 12  ctiorReusltSts5    object        \n",
      " 13  ctioIoFlag         object        \n",
      " 14  ctioFaultDesc      object        \n",
      " 15  ctioCntrNo2FmFlag  object        \n",
      " 16  ctioCarrierRefNm   object        \n",
      " 17  ctioResponseFlag   object        \n",
      " 18  remark_y           object        \n",
      " 19  ctioReserved2      object        \n",
      " 20  ctioCntrNo1FmFlag  object        \n",
      " 21  ctioReserved1      object        \n",
      " 22  rgstDem_y          datetime64[ns]\n",
      " 23  ctioReserved3      object        \n",
      " 24  rgstId_y           object        \n",
      " 25  _id_y              object        \n",
      " 26  ctioVehicleRefNo   object        \n",
      " 27  chgId_y            object        \n",
      " 28  ctioBkgDhms        object        \n",
      " 29  carrierId          object        \n",
      " 30  ctioCntr1p1Iso     object        \n",
      " 31  tmnlId             object        \n",
      " 32  ctioCntr1p2Iso     object        \n",
      " 33  ctioCntrNo1        object        \n",
      " 34  ctioCntrNo2        object        \n",
      " 35  vechicleId         object        \n",
      " 36  ctioTmnlRefnm      object        \n",
      "dtypes: datetime64[ns](1), object(36)\n",
      "memory usage: 2.9+ GB\n"
     ]
    }
   ],
   "source": [
    "merged_df.info()"
   ]
  },
  {
   "cell_type": "markdown",
   "id": "ac4015c3",
   "metadata": {},
   "source": [
    "#### [데이터정보]\n",
    "\n",
    "1. merged_df\n",
    "    - 데이터 총 10,598,363개\n",
    "    - 칼럼 37개"
   ]
  },
  {
   "cell_type": "markdown",
   "id": "215cc515",
   "metadata": {},
   "source": [
    "---"
   ]
  },
  {
   "cell_type": "markdown",
   "id": "1190f50a",
   "metadata": {},
   "source": [
    "# 3. join 결과 csv파일로 저장"
   ]
  },
  {
   "cell_type": "code",
   "execution_count": 17,
   "id": "e0a7dff0",
   "metadata": {},
   "outputs": [
    {
     "name": "stdout",
     "output_type": "stream",
     "text": [
      "CSV파일 저장시간: 148.43738985061646 초\n"
     ]
    }
   ],
   "source": [
    "start_time = time.time()\n",
    "merged_df.to_csv('merged_df.csv', index=False)\n",
    "end_time = time.time()\n",
    "\n",
    "saving_time = end_time - start_time\n",
    "print(\"CSV파일 저장시간:\", saving_time, \"초\")"
   ]
  },
  {
   "cell_type": "markdown",
   "id": "c52dbdde",
   "metadata": {},
   "source": [
    "#### - 동일 데이터/동일 코드 재실행"
   ]
  },
  {
   "cell_type": "code",
   "execution_count": 22,
   "id": "3de1ce3c",
   "metadata": {},
   "outputs": [
    {
     "name": "stdout",
     "output_type": "stream",
     "text": [
      "CSV파일 저장시간: 161.05023288726807 초\n"
     ]
    }
   ],
   "source": [
    "start_time = time.time()\n",
    "merged_df.to_csv('merged_df2.csv', index=False)\n",
    "end_time = time.time()\n",
    "\n",
    "saving_time = end_time - start_time\n",
    "print(\"CSV파일 저장시간:\", saving_time, \"초\")"
   ]
  },
  {
   "cell_type": "markdown",
   "id": "cefa14c3",
   "metadata": {},
   "source": [
    "---"
   ]
  },
  {
   "cell_type": "markdown",
   "id": "651db0e5",
   "metadata": {},
   "source": [
    "## 04. 전체시간"
   ]
  },
  {
   "cell_type": "code",
   "execution_count": 4,
   "id": "1fc9cb69",
   "metadata": {},
   "outputs": [
    {
     "data": {
      "text/plain": [
       "6339.53"
      ]
     },
     "execution_count": 4,
     "metadata": {},
     "output_type": "execute_result"
    }
   ],
   "source": [
    "# 초단위\n",
    "752.6 + 4295.03 + 1143.5 + 148.4"
   ]
  },
  {
   "cell_type": "code",
   "execution_count": 5,
   "id": "7cb160fe",
   "metadata": {},
   "outputs": [
    {
     "data": {
      "text/plain": [
       "105.65833333333333"
      ]
     },
     "execution_count": 5,
     "metadata": {},
     "output_type": "execute_result"
    }
   ],
   "source": [
    "# 분단위\n",
    "6339.5 / 60"
   ]
  },
  {
   "cell_type": "markdown",
   "id": "849f4f1f",
   "metadata": {},
   "source": [
    "---"
   ]
  },
  {
   "cell_type": "markdown",
   "id": "fb3f5cf2",
   "metadata": {},
   "source": [
    "# 05. 정리"
   ]
  },
  {
   "cell_type": "markdown",
   "id": "1ad46d31",
   "metadata": {},
   "source": [
    "1. 콜렉션 별 전체데이터 로딩 시간 비교\n",
    "   - plbc.ContainerIoResult\n",
    "           - 전체 데이터 10,835,137개 (칼럼 13개)\n",
    "           - 데이터 로딩시간 754.7초\n",
    "           - 데이터프레임 변환시간 276.5초\n",
    "           - 총 752.6초\n",
    "   - plbc.ContainerInOut\n",
    "           - 전체 데이터 13,626,405개 (칼럼 24개)\n",
    "           - 데이터 로딩시간 1786.9초\n",
    "           - 데이터프레임 변환시간 2508.2초\n",
    "           - 총 4295.03초\n",
    " \n",
    "2. 데이터 join\n",
    "   - plbcContainerIoResult는 'copionSeq'기준\n",
    "   - plbcContainerInOut는 '_id' 기준\n",
    "   - join 결과 데이터 총 10,598,363개 (칼럼 37개)\n",
    "   - 데이터 join 시간 1143.5초\n",
    " \n",
    "3. csv파일로 저장\n",
    "   - CSV 파일 저장시간 148.4초\n",
    "\n",
    "4. 전체시간\n",
    "   - 두 개 컬렉션의 전체데이터 로딩 + 데이터프레임 변환 + 테이블 JOIN + CSV파일 저장\n",
    "   - 총 6339.5초 (약 105분)\n",
    " \n",
    "5. 기타사항\n",
    "   - 동일한 코드를 재실행 시킬 때마다 시간이 느려지는 문제를 파악하여 현재 원인을 찾고있는 중\n",
    "   - JSON 형태로의 저장, batch_size 조정, 병렬로 로딩 등 시간 단축을 위한 여러 가지 방법으로 실험 진행 중"
   ]
  }
 ],
 "metadata": {
  "kernelspec": {
   "display_name": "Python 3 (ipykernel)",
   "language": "python",
   "name": "python3"
  },
  "language_info": {
   "codemirror_mode": {
    "name": "ipython",
    "version": 3
   },
   "file_extension": ".py",
   "mimetype": "text/x-python",
   "name": "python",
   "nbconvert_exporter": "python",
   "pygments_lexer": "ipython3",
   "version": "3.11.5"
  }
 },
 "nbformat": 4,
 "nbformat_minor": 5
}
